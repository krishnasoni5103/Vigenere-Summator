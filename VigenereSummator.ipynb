{
  "nbformat": 4,
  "nbformat_minor": 0,
  "metadata": {
    "colab": {
      "provenance": [],
      "authorship_tag": "ABX9TyNWwo7g82C0W/2iONrcdLTp",
      "include_colab_link": true
    },
    "kernelspec": {
      "name": "python3",
      "display_name": "Python 3"
    },
    "language_info": {
      "name": "python"
    }
  },
  "cells": [
    {
      "cell_type": "markdown",
      "metadata": {
        "id": "view-in-github",
        "colab_type": "text"
      },
      "source": [
        "<a href=\"https://colab.research.google.com/github/krishnasoni5103/Vigenere-Summator/blob/main/VigenereSummator.ipynb\" target=\"_parent\"><img src=\"https://colab.research.google.com/assets/colab-badge.svg\" alt=\"Open In Colab\"/></a>"
      ]
    },
    {
      "cell_type": "code",
      "source": [
        "def vigenere_cipher(text, key):\n",
        "    encrypted_text = \"\"\n",
        "    new_cipher_text = \"\"\n",
        "    text = text.lower() #.replace(\" \", \"\")  # Convert to lowercase and remove spaces\n",
        "    key = key.lower()\n",
        "    key_index = 0\n",
        "\n",
        "    for char in text:\n",
        "        if char.isalpha():\n",
        "            shift = ord(key[key_index % len(key)]) - 97\n",
        "            encrypted_char = chr((ord(char) + shift - 97) % 26 + 97)\n",
        "            encrypted_text += encrypted_char\n",
        "            alphabet_sum = sum(int(digit) for digit in str(ord(encrypted_char)))  # Sum of the digits of ASCII value\n",
        "            new_cipher_char = chr(alphabet_sum + 97)  # Convert back to character\n",
        "            new_cipher_text += new_cipher_char\n",
        "            key_index += 1\n",
        "        else:\n",
        "            encrypted_text += char\n",
        "            new_cipher_text += char\n",
        "\n",
        "    return encrypted_text, new_cipher_text\n",
        "\n",
        "# Example usage\n",
        "text = input(\"Enter the text you want to encrypt: \")\n",
        "key = input(\"Enter the keyword: \")\n",
        "\n",
        "encrypted_text, new_cipher_text = vigenere_cipher(text, key)\n",
        "\n",
        "print(\"Original Text:\", text)\n",
        "print(\"Encrypted Text:\", encrypted_text)\n",
        "print(\"New Cipher Text:\", new_cipher_text)\n"
      ],
      "metadata": {
        "colab": {
          "base_uri": "https://localhost:8080/"
        },
        "id": "UAoSC_A7OoW7",
        "outputId": "b2508179-0eff-4ca1-a558-61a28950c230"
      },
      "execution_count": null,
      "outputs": [
        {
          "name": "stdout",
          "output_type": "stream",
          "text": [
            "Enter the text you want to encrypt: She is Listening\n"
          ]
        }
      ]
    }
  ]
}